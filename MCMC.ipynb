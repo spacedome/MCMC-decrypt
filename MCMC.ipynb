{
 "cells": [
  {
   "cell_type": "markdown",
   "metadata": {},
   "source": [
    "# MCMC Decryption Metropolis algorithm"
   ]
  },
  {
   "cell_type": "code",
   "execution_count": null,
   "metadata": {
    "collapsed": true
   },
   "outputs": [],
   "source": [
    "import string\n",
    "import numpy as np\n",
    "import re\n",
    "from random import randrange\n",
    "from random import random\n",
    "\n",
    "spaces = re.compile('([^A-Z]|\\s+|\\n)')"
   ]
  },
  {
   "cell_type": "code",
   "execution_count": 9,
   "metadata": {
    "collapsed": true
   },
   "outputs": [],
   "source": [
    "ind = dict()\n",
    "txt = dict()\n",
    "\n",
    "# Alphabet\n",
    "allowed = string.ascii_uppercase + \" \"\n",
    "\n",
    "# Make lookup tables for the markov chain\n",
    "for i, c in enumerate(allowed):\n",
    "    ind[c] = i\n",
    "    txt[i] = c\n",
    "    \n",
    "    \n",
    "# Read in reference text\n",
    "transitions = np.ones((len(allowed), len(allowed)))\n",
    "last = 'A'\n",
    "with open('./warandpeace.txt') as f:\n",
    "    for x in f:\n",
    "        for c in re.sub(spaces, ' ', x.upper()):\n",
    "            if c in allowed:\n",
    "                transitions[ind[c], ind[last]] += 1\n",
    "                last = c"
   ]
  },
  {
   "cell_type": "code",
   "execution_count": 4,
   "metadata": {
    "collapsed": true
   },
   "outputs": [],
   "source": [
    "# make normalized markov chain\n",
    "# Useful for generating text\n",
    "M = np.copy(transitions)\n",
    "for i in range(len(allowed)):\n",
    "    M[:,i] = M[:,i] / np.sum(M[:,i])"
   ]
  },
  {
   "cell_type": "code",
   "execution_count": 10,
   "metadata": {
    "collapsed": true
   },
   "outputs": [],
   "source": [
    "#Encode/Decode methods\n",
    "def decode(text, key, alphabet):\n",
    "    return text.translate(str.maketrans(key, alphabet))\n",
    "\n",
    "def encode(text, key, alphabet):\n",
    "    return text.translate(str.maketrans(alphabet, key))\n",
    "\n",
    "# Return transposed key\n",
    "def transpose(key):\n",
    "    i, j = 0, 0\n",
    "    while i == j:\n",
    "        i, j = randrange(len(key)), randrange(len(key))\n",
    "    keyl = list(key)\n",
    "    keyl[i], keyl[j] = keyl[j], keyl[i]\n",
    "    return ''.join(keyl)\n",
    "\n",
    "# Score function (log)\n",
    "def log_pi(inpstr, matrix):\n",
    "    total = 0\n",
    "    ins = re.sub(spaces, ' ', inpstr)\n",
    "    for i in range(0, len(inpstr)-1):\n",
    "        total += np.log(matrix[ind[ins[i]], ind[ins[i+1]]])\n",
    "    return total"
   ]
  },
  {
   "cell_type": "code",
   "execution_count": 76,
   "metadata": {},
   "outputs": [
    {
     "name": "stdout",
     "output_type": "stream",
     "text": [
      "SWIUKENHDTMPLAXQJYZO RGFVBC\n",
      "IT WAS IMPOSSIBLE TO GIVE BATTLE BEFORE INFORMATION HAD BEEN COLLECTED,\n",
      "THE WOUNDED GATHERED IN, THE SUPPLIES OF AMMUNITION REPLENISHED, THE\n",
      "SLAIN RECKONED UP, NEW OFFICERS APPOINTED TO REPLACE THOSE \n",
      "DOCGSZCDLQXZZDWPKCOXCNDRKCWSOOPKCWKEXYKCDAEXYLSODXACHSUCWKKACIXPPKIOKU,\n",
      "OHKCGX AUKUCNSOHKYKUCDA,COHKCZ QQPDKZCXECSLL ADODXACYKQPKADZHKU,COHK\n",
      "ZPSDACYKIMXAKUC Q,CAKGCXEEDIKYZCSQQXDAOKUCOXCYKQPSIKCOHXZKC\n",
      "IT WAS IMPOSSIBLE TO GIVE BATTLE BEFORE INFORMATION HAD BEEN COLLECTED,\n",
      "THE WOUNDED GATHERED IN, THE SUPPLIES OF AMMUNITION REPLENISHED, THE\n",
      "SLAIN RECKONED UP, NEW OFFICERS APPOINTED TO REPLACE THOSE \n",
      "17836.370079\n"
     ]
    }
   ],
   "source": [
    "# generate random key\n",
    "e_key = ''.join(np.random.permutation(list(allowed)))\n",
    "print(e_key)\n",
    "# d_key = decode(allowed, e_key, allowed)\n",
    "# print(d_key)\n",
    "\n",
    "# read in plain text message\n",
    "plaintext = \"\"\n",
    "with open('./example.txt') as f:\n",
    "    for line in f:\n",
    "        plaintext += line.upper()\n",
    "print(plaintext[:200])\n",
    "\n",
    "# generate cipher text from message\n",
    "ciphertext = encode(plaintext, e_key, allowed)\n",
    "print(ciphertext[:200])\n",
    "\n",
    "print(decode(ciphertext, e_key, allowed)[:200])\n",
    "print(log_pi(decode(ciphertext, e_key, allowed), transitions))"
   ]
  },
  {
   "cell_type": "markdown",
   "metadata": {},
   "source": [
    "# Metropolis Algorithm"
   ]
  },
  {
   "cell_type": "code",
   "execution_count": 83,
   "metadata": {
    "scrolled": true
   },
   "outputs": [
    {
     "name": "stdout",
     "output_type": "stream",
     "text": [
      "12110.1869312\n",
      "12795.5533113\n",
      "12922.9137601\n",
      "13242.3531619\n",
      "13286.4631218\n",
      "13326.9694743\n",
      "13544.2728206\n",
      "14077.5959682\n",
      "14236.2741154\n",
      "14558.609908\n",
      "14563.7930253\n",
      "15239.89489\n",
      "15586.945874\n",
      "15744.888755\n",
      "15887.9595059\n",
      "15957.5257969\n",
      "15978.4934199\n",
      "16269.1675993\n",
      "16455.0757201\n",
      "16464.7812161\n",
      "16502.3716797\n",
      "16518.7362495\n",
      "16549.9081172\n",
      "16592.6323476\n",
      "16686.1533627\n",
      "16760.2598394\n",
      "16760.2598394\n",
      "RS PTA RNFEAARBHO SE IRQO BTSSHO BOZEWO RDZEWNTSRED MTG BOOD YEHHOYSOG,\n",
      "SMO PELDGOG ITSMOWOG RD, SMO ALFFHROA EZ TNNLDRSRED WOFHODRAMOG, SMO\n",
      "AHTRD WOYCEDOG LF, DOP EZZRYOWA TFFERDSOG SE WOFHTYO SMEAO \n",
      "ZWMAXQUPNBF HLKGRDOSVTYJIEC SWIUKENHDTMPLAXQJYZO RGFVBC\n"
     ]
    }
   ],
   "source": [
    "# Initial key \n",
    "maxkey = allowed\n",
    "maxscore = log_pi(decode(ciphertext, maxkey, allowed), transitions)\n",
    "# Number of restarts\n",
    "for j in range(2):\n",
    "    iterkey = ''.join(np.random.permutation(list(allowed)))\n",
    "    oscore = log_pi(decode(ciphertext, iterkey, allowed), transitions)\n",
    "    # Number of iterations\n",
    "    for i in range(7000):\n",
    "        nkey = transpose(iterkey)\n",
    "        nscore = log_pi(decode(ciphertext, nkey, allowed), transitions)\n",
    "        if nscore > maxscore:\n",
    "            print(nscore)\n",
    "            maxscore = nscore\n",
    "            maxkey = nkey\n",
    "        if (nscore/oscore)**25 > random():\n",
    "            iterkey = nkey\n",
    "            oscore = nscore\n",
    "        \n",
    "print(log_pi(decode(ciphertext, maxkey, allowed), transitions))\n",
    "print(decode(ciphertext, maxkey, allowed)[:200])\n",
    "print(maxkey, e_key)"
   ]
  },
  {
   "cell_type": "markdown",
   "metadata": {},
   "source": [
    "# Examples"
   ]
  },
  {
   "cell_type": "markdown",
   "metadata": {},
   "source": [
    "## Encrypting / Decrypting"
   ]
  },
  {
   "cell_type": "code",
   "execution_count": 50,
   "metadata": {},
   "outputs": [
    {
     "name": "stdout",
     "output_type": "stream",
     "text": [
      "Text:     EXAMPLE PLAIN TEXT TO ENCRYPT\n",
      "E Key:    XEBPROHYAUFTIDSJLKZMWVNGQC\n",
      "Cipher:   RGXIJTR JTXAD MRGM MS RDBKQJM\n",
      "D Key:    GREJKSYQXWOMAPZUTFCINVDHLB\n",
      "Decoded:  EXAMPLE PLAIN TEXT TO ENCRYPT\n"
     ]
    }
   ],
   "source": [
    "text = \"EXAMPLE PLAIN TEXT TO ENCRYPT\"\n",
    "ekey = \"XEBPROHYAUFTIDSJLKZMWVNGQC\"\n",
    "alph = \"ABCDEFGHIJKLMNOPQRSTUVWXYZ\"\n",
    "\n",
    "cipher = encode(text, ekey, alph)\n",
    "\n",
    "print(\"Text:    \", text)\n",
    "print(\"E Key:   \", ekey)\n",
    "print(\"Cipher:  \", cipher)\n",
    "print(\"D Key:   \", decode(ekey, alph, ekey))\n",
    "print(\"Decoded: \", decode(cipher, ekey, alph))"
   ]
  },
  {
   "cell_type": "markdown",
   "metadata": {},
   "source": [
    "## Generating Text"
   ]
  },
  {
   "cell_type": "code",
   "execution_count": 80,
   "metadata": {},
   "outputs": [
    {
     "data": {
      "text/plain": [
       "'F YINDO TOTE THR RUER TOUTHED THE  OPE  WERONEX WE'"
      ]
     },
     "execution_count": 80,
     "metadata": {},
     "output_type": "execute_result"
    }
   ],
   "source": [
    "sample = \"\"\n",
    "last = 'A'\n",
    "for i in range(50):\n",
    "    x = np.random.choice(list(allowed), p=M[:,ind[last]])\n",
    "    last = x\n",
    "    sample += x\n",
    "sample"
   ]
  }
 ],
 "metadata": {
  "kernelspec": {
   "display_name": "Python 3",
   "language": "python",
   "name": "python3"
  },
  "language_info": {
   "codemirror_mode": {
    "name": "ipython",
    "version": 3
   },
   "file_extension": ".py",
   "mimetype": "text/x-python",
   "name": "python",
   "nbconvert_exporter": "python",
   "pygments_lexer": "ipython3",
   "version": "3.5.3"
  }
 },
 "nbformat": 4,
 "nbformat_minor": 2
}
